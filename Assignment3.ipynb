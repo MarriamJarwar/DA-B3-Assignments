{
 "cells": [
  {
   "cell_type": "code",
   "execution_count": 1,
   "id": "55e50b50-ee01-4352-9d82-12465087e36d",
   "metadata": {},
   "outputs": [
    {
     "name": "stdout",
     "output_type": "stream",
     "text": [
      "Enter your age:  65\n"
     ]
    },
    {
     "name": "stdout",
     "output_type": "stream",
     "text": [
      "You are a Senior.\n"
     ]
    }
   ],
   "source": [
    "#Age Group Classification \n",
    "\n",
    "#Write a Python program that takes the age of a person as input and classifies them into one of the following age groups:\n",
    "\n",
    "#\"Child\" if the age is between 0 and 12 (inclusive).\n",
    "\n",
    "#\"Teenager\" if the age is between 13 and 19 (inclusive).\n",
    "\n",
    "#\"Adult\" if the age is between 20 and 64 (inclusive).\n",
    "\n",
    "#\"Senior\" if the age is 65 or older.\n",
    "\n",
    "# Age Group Classification Program\n",
    "\n",
    "# Get age input from the user\n",
    "age = int(input(\"Enter your age: \"))\n",
    "\n",
    "# Classify based on age\n",
    "if 0 <= age <= 12:\n",
    "    print(\"You are a Child.\")\n",
    "elif 13 <= age <= 19:\n",
    "    print(\"You are a Teenager.\")\n",
    "elif 20 <= age <= 64:\n",
    "    print(\"You are an Adult.\")\n",
    "elif age >= 65:\n",
    "    print(\"You are a Senior.\")\n",
    "else:\n",
    "    print(\"Invalid age entered.\")\n"
   ]
  },
  {
   "cell_type": "code",
   "execution_count": 3,
   "id": "e9c074d1-0617-438d-b806-97ee02b8e7c7",
   "metadata": {},
   "outputs": [
    {
     "name": "stdout",
     "output_type": "stream",
     "text": [
      "Enter your email address:  marriamjarwar02@gmail.com\n"
     ]
    },
    {
     "name": "stdout",
     "output_type": "stream",
     "text": [
      "Email format is valid.\n"
     ]
    }
   ],
   "source": [
    "#Q2. Write a Python program that asks the user to enter an email address. The program should check if the email contains the characters @ and \".\"\n",
    "#(ignoring case). If either character is present, print \"Email format is valid.\" Otherwise, print \"Invalid email format.\"\n",
    "\n",
    "# Email Format Checker\n",
    "\n",
    "# Ask the user to enter an email address\n",
    "email = input(\"Enter your email address: \")\n",
    "\n",
    "# Check if '@' and '.' are present in the email\n",
    "if \"@\" in email and \".\" in email:\n",
    "    print(\"Email format is valid.\")\n",
    "else:\n",
    "    print(\"Invalid email format.\")\n"
   ]
  },
  {
   "cell_type": "code",
   "execution_count": null,
   "id": "d026da96-1775-459e-8fd2-128b44c7fa0b",
   "metadata": {},
   "outputs": [
    {
     "name": "stdout",
     "output_type": "stream",
     "text": [
      "Enter the first number:  50\n",
      "Enter the second number:  20\n",
      "Enter the third number:  40\n"
     ]
    },
    {
     "name": "stdout",
     "output_type": "stream",
     "text": [
      "The largest number is: 50.0\n"
     ]
    }
   ],
   "source": [
    "#Q3. Write a Python program that takes three numbers as input and determines the largest among them.\n",
    "#Also, check if any or all of the numbers are equal.\"\n",
    "# Program to find the largest of three numbers and check equality\n",
    "\n",
    "# Input three numbers from the user\n",
    "num1 = float(input(\"Enter the first number: \"))\n",
    "num2 = float(input(\"Enter the second number: \"))\n",
    "num3 = float(input(\"Enter the third number: \"))\n",
    "\n",
    "# Check if all numbers are equal\n",
    "if num1 == num2 == num3:\n",
    "    print(\"All numbers are equal.\")\n",
    "# Check if any two numbers are equal\n",
    "elif num1 == num2 or num1 == num3 or num2 == num3:\n",
    "    print(\"Some numbers are equal.\")\n",
    "    # Determine the largest number\n",
    "    largest = max(num1, num2, num3)\n",
    "    print(f\"The largest number is: {largest}\")\n",
    "else:\n",
    "    # All numbers are different, find the largest\n",
    "    largest = max(num1, num2, num3)\n",
    "    print(f\"The largest number is: {largest}\")\n"
   ]
  },
  {
   "cell_type": "code",
   "execution_count": 5,
   "id": "34015554-ec98-44dd-913d-951769f05c3f",
   "metadata": {},
   "outputs": [
    {
     "name": "stdout",
     "output_type": "stream",
     "text": [
      "Enter a number:  5\n"
     ]
    },
    {
     "name": "stdout",
     "output_type": "stream",
     "text": [
      "The number is positive and odd.\n"
     ]
    }
   ],
   "source": [
    "#Write a Python program that:\n",
    "\n",
    "#Asks the user to enter a number.\n",
    "\n",
    "#Checks whether the number is positive.\n",
    "\n",
    "#If yes, further check if it's even or odd.\n",
    "\n",
    "#Print \"The number is positive and even\" if divisible by 2.\n",
    "\n",
    "#Print \"The number is positive and odd\" if not divisible by 2.\n",
    "\n",
    "#If the number is zero or negative, print \"The number is not positive\".\n",
    "\n",
    "# Check if a number is positive and whether it's even or odd\n",
    "\n",
    "# Ask the user to enter a number\n",
    "num = int(input(\"Enter a number: \"))\n",
    "\n",
    "# Check if the number is positive\n",
    "if num > 0:\n",
    "    # Check if the number is even or odd\n",
    "    if num % 2 == 0:\n",
    "        print(\"The number is positive and even.\")\n",
    "    else:\n",
    "        print(\"The number is positive and odd.\")\n",
    "else:\n",
    "    print(\"The number is not positive.\")\n"
   ]
  },
  {
   "cell_type": "code",
   "execution_count": 6,
   "id": "93718068-356d-4fd3-bdf9-d146aad4b78b",
   "metadata": {},
   "outputs": [
    {
     "name": "stdout",
     "output_type": "stream",
     "text": [
      "Enter username:  admin\n",
      "Enter password:  1234\n"
     ]
    },
    {
     "name": "stdout",
     "output_type": "stream",
     "text": [
      "Access granted.\n"
     ]
    }
   ],
   "source": [
    "#Q5. Ask the user for a username and password. Check if the username is correct. If it is, then check if the password is correct. If both are correct, print \"Access granted\".\n",
    "\n",
    "#username = \"admin\"\n",
    "\n",
    "#password = \"1234\"\n",
    "\n",
    "# Predefined credentials\n",
    "username = \"admin\"\n",
    "password = \"1234\"\n",
    "\n",
    "# Ask the user for username and password\n",
    "entered_username = input(\"Enter username: \")\n",
    "entered_password = input(\"Enter password: \")\n",
    "\n",
    "# Check credentials\n",
    "if entered_username == username:\n",
    "    if entered_password == password:\n",
    "        print(\"Access granted.\")\n",
    "    else:\n",
    "        print(\"Incorrect password.\")\n",
    "else:\n",
    "    print(\"Incorrect username.\")\n"
   ]
  },
  {
   "cell_type": "code",
   "execution_count": 8,
   "id": "a0772549-2f1a-435a-8470-f362c45e1073",
   "metadata": {},
   "outputs": [
    {
     "name": "stdout",
     "output_type": "stream",
     "text": [
      "Enter an integer:  10\n"
     ]
    },
    {
     "name": "stdout",
     "output_type": "stream",
     "text": [
      "10 exists in the tuple.\n"
     ]
    }
   ],
   "source": [
    "#Q6. Take an integer input from the user \n",
    "#and check whether the entered value exists in the tuple my_tuple = (5, 10, 15, 20, 25). Print an appropriate message based on the result.\n",
    "# Predefined tuple\n",
    "my_tuple = (5, 10, 15, 20, 25)\n",
    "\n",
    "# Take integer input from the user\n",
    "user_input = int(input(\"Enter an integer: \"))\n",
    "\n",
    "# Check if the value exists in the tuple\n",
    "if user_input in my_tuple:\n",
    "    print(f\"{user_input} exists in the tuple.\")\n",
    "else:\n",
    "    print(f\"{user_input} does not exist in the tuple.\")\n"
   ]
  },
  {
   "cell_type": "code",
   "execution_count": 9,
   "id": "2763d5db-7b09-495c-8be8-9db35aec047c",
   "metadata": {},
   "outputs": [
    {
     "name": "stdout",
     "output_type": "stream",
     "text": [
      "Enter your first name:  5\n",
      "Enter your last name:  6\n",
      "Enter your age:  20\n"
     ]
    },
    {
     "name": "stdout",
     "output_type": "stream",
     "text": [
      "User Information Tuple: ('5', '6', 20)\n"
     ]
    }
   ],
   "source": [
    "#Q7. Create a program that takes the user's first name, last name, and age as input, packs them into a tuple, and prints the tuple.\n",
    "\n",
    "# Take user input\n",
    "first_name = input(\"Enter your first name: \")\n",
    "last_name = input(\"Enter your last name: \")\n",
    "age = int(input(\"Enter your age: \"))\n",
    "\n",
    "# Pack the inputs into a tuple\n",
    "user_info = (first_name, last_name, age)\n",
    "\n",
    "# Print the tuple\n",
    "print(\"User Information Tuple:\", user_info)\n"
   ]
  },
  {
   "cell_type": "code",
   "execution_count": 10,
   "id": "1f33218b-348c-4ed1-9a88-fd6ff6a97649",
   "metadata": {},
   "outputs": [
    {
     "name": "stdout",
     "output_type": "stream",
     "text": [
      "Sum of coordinates: 15\n"
     ]
    }
   ],
   "source": [
    "#Q8. Given the tuple coordinates = (4, 5, 6),\n",
    "#unpack the elements of the tuple into three variables x, y, and z. Then, calculate and print the sum of the variables.\n",
    "\n",
    "# Given tuple\n",
    "coordinates = (4, 5, 6)\n",
    "\n",
    "# Unpack the tuple into variables\n",
    "x, y, z = coordinates\n",
    "\n",
    "# Calculate the sum\n",
    "total = x + y + z\n",
    "\n",
    "# Print the result\n",
    "print(\"Sum of coordinates:\", total)\n"
   ]
  },
  {
   "cell_type": "code",
   "execution_count": 11,
   "id": "1b2c35ef-901e-46a5-8647-3da152ae215d",
   "metadata": {},
   "outputs": [
    {
     "name": "stdout",
     "output_type": "stream",
     "text": [
      "Updated tuple: (1, 2, 4, 5)\n"
     ]
    }
   ],
   "source": [
    "#Q9. Given the tuple my_tuple = (1, 2, 3, 4, 5), remove the element 3 from the tuple by first converting it to a list, and then print the resulting tuple.\n",
    "\n",
    "# Given tuple\n",
    "my_tuple = (1, 2, 3, 4, 5)\n",
    "\n",
    "# Convert tuple to list\n",
    "temp_list = list(my_tuple)\n",
    "\n",
    "# Remove the element 3\n",
    "if 3 in temp_list:\n",
    "    temp_list.remove(3)\n",
    "\n",
    "# Convert back to tuple\n",
    "updated_tuple = tuple(temp_list)\n",
    "\n",
    "# Print the resulting tuple\n",
    "print(\"Updated tuple:\", updated_tuple)\n"
   ]
  },
  {
   "cell_type": "code",
   "execution_count": 12,
   "id": "f24ade15-c238-4b32-8422-36624cd5652e",
   "metadata": {},
   "outputs": [
    {
     "name": "stdout",
     "output_type": "stream",
     "text": [
      "Maximum value: 30\n",
      "Minimum value: 5\n"
     ]
    }
   ],
   "source": [
    "#Q10. Given the tuple numbers = (10, 20, 5, 30, 15), find and print the maximum and minimum values in the tuple.\n",
    "# Given tuple\n",
    "numbers = (10, 20, 5, 30, 15)\n",
    "\n",
    "# Find maximum and minimum values\n",
    "max_value = max(numbers)\n",
    "min_value = min(numbers)\n",
    "\n",
    "# Print the results\n",
    "print(\"Maximum value:\", max_value)\n",
    "print(\"Minimum value:\", min_value)\n"
   ]
  },
  {
   "cell_type": "code",
   "execution_count": null,
   "id": "048e0a94-59ff-4e7e-b78f-bab979de0cd6",
   "metadata": {},
   "outputs": [],
   "source": []
  }
 ],
 "metadata": {
  "kernelspec": {
   "display_name": "Python 3 (ipykernel)",
   "language": "python",
   "name": "python3"
  },
  "language_info": {
   "codemirror_mode": {
    "name": "ipython",
    "version": 3
   },
   "file_extension": ".py",
   "mimetype": "text/x-python",
   "name": "python",
   "nbconvert_exporter": "python",
   "pygments_lexer": "ipython3",
   "version": "3.12.3"
  }
 },
 "nbformat": 4,
 "nbformat_minor": 5
}
