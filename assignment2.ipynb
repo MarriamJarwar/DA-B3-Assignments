{
 "cells": [
  {
   "cell_type": "code",
   "execution_count": null,
   "id": "69b8ffc3-7043-4f16-84ae-956b6f0761bb",
   "metadata": {},
   "outputs": [
    {
     "name": "stdout",
     "output_type": "stream",
     "text": [
      "Modified Text: hello_python_world\n",
      "Split List: ['hello', 'python', 'world']\n",
      "Joined Text: hello-python-world\n"
     ]
    }
   ],
   "source": [
    "#1- text = 'hello python world'\n",
    "\n",
    "#Replace spaces with underscores in the string (e.g., \"hello python world\" → \"hello_python_world\").\n",
    "\n",
    "#Split the modified string (e.g., \"hello_python_world\" → ['hello', 'python', 'world']).\n",
    "\n",
    "#Join the list elements with a hyphen (-) between them (e.g., ['hello', 'python', 'world'] → \"hello-python-world\").\n",
    "\n",
    "#Print all three results\n",
    "\n",
    "#Hint: Use string methods\n",
    "\n",
    "# Step 1: Replace spaces with underscores\n",
    "text = 'hello python world'\n",
    "modified_text = text.replace(' ', '_')\n",
    "print(\"Modified Text:\", modified_text)\n",
    "\n",
    "# Step 2: Split the modified string into a list\n",
    "split_list = modified_text.split('_')\n",
    "print(\"Split List:\", split_list)\n",
    "\n",
    "# Step 3: Join the list elements with a hyphen\n",
    "joined_text = '-'.join(split_list)\n",
    "print(\"Joined Text:\", joined_text)\n"
   ]
  },
  {
   "cell_type": "code",
   "execution_count": null,
   "id": "2d104145-ad47-4d3f-9997-5c55bb288d22",
   "metadata": {},
   "outputs": [
    {
     "name": "stdout",
     "output_type": "stream",
     "text": [
      "True\n"
     ]
    }
   ],
   "source": [
    "#2- Check if a string has more than 5 characters. Return True/False word = \"Javascript\"\n",
    "word = \"Javascript\"\n",
    "result = len(word) > 5\n",
    "print(result)"
   ]
  },
  {
   "cell_type": "code",
   "execution_count": null,
   "id": "087cd558-49e3-4768-8196-1d3c1521f478",
   "metadata": {},
   "outputs": [
    {
     "name": "stdout",
     "output_type": "stream",
     "text": [
      "True\n"
     ]
    }
   ],
   "source": [
    "#3- Check if a number is even and greater than 10. Return True/False\n",
    "\n",
    "num2 = 12\n",
    "num2 = 12\n",
    "result = (num2 % 2 == 0) and (num2 > 10)\n",
    "print(result)\n"
   ]
  },
  {
   "cell_type": "code",
   "execution_count": null,
   "id": "79b1d928-9bf7-4d6c-a3c6-400fc1cb01b5",
   "metadata": {},
   "outputs": [
    {
     "name": "stdout",
     "output_type": "stream",
     "text": [
      "True\n"
     ]
    }
   ],
   "source": [
    "#4- Check if a number is less than 5 or greater than 20. Return True/False num3 = 3\n",
    "\n",
    "num3 = 3\n",
    "result = (num3 < 5) or (num3 > 20)\n",
    "print(result)\n"
   ]
  },
  {
   "cell_type": "code",
   "execution_count": null,
   "id": "eb1dfd8a-2e3a-4952-b2ff-d8561685ed08",
   "metadata": {},
   "outputs": [
    {
     "name": "stdout",
     "output_type": "stream",
     "text": [
      "True\n"
     ]
    }
   ],
   "source": [
    "#5- Check if a person’s age is between 18 and 65 and if they have a valid ID age = 25 has_id = True\n",
    "age = 25\n",
    "has_id = True\n",
    "\n",
    "result = (18 <= age <= 65) and has_id\n",
    "print(result)"
   ]
  },
  {
   "cell_type": "code",
   "execution_count": null,
   "id": "daf4f09e-2f94-477e-b676-58368ad81c3d",
   "metadata": {},
   "outputs": [
    {
     "name": "stdout",
     "output_type": "stream",
     "text": [
      "True\n"
     ]
    }
   ],
   "source": [
    "#6-Write a script to check if a string starts with (http://) or (https://) url = \"https://www.example.com\"\n",
    "\n",
    "url = \"https://www.example.com\"\n",
    "\n",
    "result = url.startswith(\"http://\") or url.startswith(\"https://\")\n",
    "print(result)"
   ]
  },
  {
   "cell_type": "code",
   "execution_count": null,
   "id": "55a81d9e-9a35-43bf-80e7-3a753a12db55",
   "metadata": {},
   "outputs": [
    {
     "name": "stdout",
     "output_type": "stream",
     "text": [
      "90.0\n"
     ]
    }
   ],
   "source": [
    "#7- Write a script that applies a 10% discount to an item's price. (Using Assignment Operator)\n",
    "\n",
    "#price = 100\n",
    "\n",
    "price = 100\n",
    "\n",
    "price *= 0.90  # Apply 10% discount\n",
    "print(price)"
   ]
  },
  {
   "cell_type": "code",
   "execution_count": null,
   "id": "4c0c3fb3-a5ee-47c9-81fa-5d1233b15eab",
   "metadata": {},
   "outputs": [
    {
     "name": "stdout",
     "output_type": "stream",
     "text": [
      "False\n"
     ]
    }
   ],
   "source": [
    "#8- You are managing different customer lists for a subscription service, check if alice@example.com is our both premium and basic customer\n",
    "\n",
    "#premium_customers = [\"alice@example.com\", \"charlie@example.com\", \"bob@example.com\"]\n",
    "\n",
    "#basic_customers = [\"alex@example.com\", \"david@example.com\", \"chloe@example.com\"]\n",
    "\n",
    "premium_customers = [\"alice@example.com\", \"charlie@example.com\", \"bob@example.com\"]\n",
    "basic_customers = [\"alex@example.com\", \"david@example.com\", \"chloe@example.com\"]\n",
    "\n",
    "email = \"alice@example.com\"\n",
    "result = (email in premium_customers) and (email in basic_customers)\n",
    "print(result)\n"
   ]
  },
  {
   "cell_type": "code",
   "execution_count": null,
   "id": "b8db14dd-dd0a-4fa1-bd12-cd75646f8045",
   "metadata": {},
   "outputs": [],
   "source": [
    "#9. Write a Python program that prompts the user to enter a password and returns True or False based on the following checks:\n",
    "\n",
    "#Whether the string contains any uppercase characters.\n",
    "\n",
    "#Whether the string contains any lowercase characters.\n",
    "\n",
    "#Whether the string contains any spaces.\n",
    "\n",
    "#Whether the string contains any special characters (anything other than letters, digits, and spaces).\n",
    "\n",
    "\n",
    "\n",
    "#Hint: Use Input function and string methods\n",
    "\n",
    "password = input(\"Enter your password: \")\n",
    "\n",
    "has_upper = any(char.isupper() for char in password)\n",
    "has_lower = any(char.islower() for char in password)\n",
    "has_space = ' ' in password\n",
    "has_special = any(not char.isalnum() and not char.isspace() for char in password)\n",
    "\n",
    "# Final result: all conditions must be True (except has_space should be False)\n",
    "result = has_upper and has_lower and not has_space and has_special\n",
    "\n",
    "print(\"Password is valid:\", result)"
   ]
  },
  {
   "cell_type": "code",
   "execution_count": null,
   "id": "1c5f4146-6e33-45eb-b86a-8bf8cc0f0d02",
   "metadata": {},
   "outputs": [],
   "source": [
    "#10- You have a product code that follows the format \"SKU-12345-XYZ\". \n",
    "\n",
    "#Find the first position of the dash (-).\n",
    "\n",
    "#Count the number of dashes (-) in the product code.\n",
    "\n",
    "#Remove the \"SKU-\" prefix and \"-XYZ\" suffix from the product code, Extract the numeric part 12345\n",
    "\n",
    "#Hint: Use String Methods\n",
    "\n",
    "product_code = \"SKU-12345-XYZ\"\n",
    "\n",
    "# Find the first position of the dash (-)\n",
    "first_dash_index = product_code.find('-')\n",
    "print(\"First dash position:\", first_dash_index)\n",
    "\n",
    "# Count the number of dashes\n",
    "dash_count = product_code.count('-')\n",
    "print(\"Number of dashes:\", dash_count)\n",
    "\n",
    "# Extract the numeric part by removing prefix and suffix\n",
    "numeric_part = product_code.replace(\"SKU-\", \"\").replace(\"-XYZ\", \"\")\n",
    "print(\"Numeric part:\", numeric_part)\n"
   ]
  },
  {
   "cell_type": "code",
   "execution_count": null,
   "id": "3a1d90d7-2ecd-465c-ae1b-e41c46eb16e8",
   "metadata": {},
   "outputs": [],
   "source": []
  }
 ],
 "metadata": {
  "kernelspec": {
   "display_name": "Python 3 (ipykernel)",
   "language": "python",
   "name": "python3"
  },
  "language_info": {
   "codemirror_mode": {
    "name": "ipython",
    "version": 3
   },
   "file_extension": ".py",
   "mimetype": "text/x-python",
   "name": "python",
   "nbconvert_exporter": "python",
   "pygments_lexer": "ipython3",
   "version": "3.12.3"
  }
 },
 "nbformat": 4,
 "nbformat_minor": 5
}
