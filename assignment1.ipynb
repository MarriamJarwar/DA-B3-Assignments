{
 "cells": [
  {
   "cell_type": "code",
   "execution_count": 1,
   "id": "8b8db928-a554-4f71-8133-49ce7d79baba",
   "metadata": {},
   "outputs": [
    {
     "name": "stdout",
     "output_type": "stream",
     "text": [
      "19\n"
     ]
    }
   ],
   "source": [
    "#write a program that take two number (a= 15, b=4) and print their sum, difference, product, division, floor division, modulus\n",
    "\n",
    "a=15\n",
    "b=4\n",
    "print(a+b)"
   ]
  },
  {
   "cell_type": "code",
   "execution_count": 2,
   "id": "bc3c9ee6-6ac8-4391-9490-d680d9722dbf",
   "metadata": {},
   "outputs": [
    {
     "name": "stdout",
     "output_type": "stream",
     "text": [
      "11\n"
     ]
    }
   ],
   "source": [
    "print(a-b)"
   ]
  },
  {
   "cell_type": "code",
   "execution_count": 3,
   "id": "9d57140a-4bdd-4a58-ae30-752d42f7abdc",
   "metadata": {},
   "outputs": [
    {
     "name": "stdout",
     "output_type": "stream",
     "text": [
      "60\n"
     ]
    }
   ],
   "source": [
    "print(a*b)"
   ]
  },
  {
   "cell_type": "code",
   "execution_count": 4,
   "id": "f632b5c0-75cb-4b89-a18f-74b587320ab3",
   "metadata": {},
   "outputs": [
    {
     "name": "stdout",
     "output_type": "stream",
     "text": [
      "3.75\n"
     ]
    }
   ],
   "source": [
    "print(a/b)"
   ]
  },
  {
   "cell_type": "code",
   "execution_count": 5,
   "id": "8bfb77d9-0483-4d20-89d6-cc730a73f3ac",
   "metadata": {},
   "outputs": [
    {
     "name": "stdout",
     "output_type": "stream",
     "text": [
      "3\n"
     ]
    }
   ],
   "source": [
    "print(a//b)"
   ]
  },
  {
   "cell_type": "code",
   "execution_count": 6,
   "id": "d443582e-a996-434d-b3a4-3ff56e90ba8a",
   "metadata": {},
   "outputs": [
    {
     "name": "stdout",
     "output_type": "stream",
     "text": [
      "3\n"
     ]
    }
   ],
   "source": [
    "print(a%b)"
   ]
  },
  {
   "cell_type": "code",
   "execution_count": 7,
   "id": "70c04961-a551-4006-84a7-ba1f0bd86144",
   "metadata": {},
   "outputs": [
    {
     "data": {
      "text/plain": [
       "10.0"
      ]
     },
     "execution_count": 7,
     "metadata": {},
     "output_type": "execute_result"
    }
   ],
   "source": [
    "#convert the following (num1 = 10, num2 = 5.6, num3 = 4.43)\n",
    "#integer to float\n",
    "num1 = 10\n",
    "num1 = float(num1)\n",
    "num1 "
   ]
  },
  {
   "cell_type": "code",
   "execution_count": 8,
   "id": "9a76b5d0-8664-47cb-bcc1-8ccc393754a0",
   "metadata": {},
   "outputs": [
    {
     "name": "stdout",
     "output_type": "stream",
     "text": [
      "5 4\n"
     ]
    }
   ],
   "source": [
    "#float to integer\n",
    "num2 = 5.6\n",
    "num3 = 4.43\n",
    "\n",
    "num2 = int(num2)\n",
    "num3 = int(num3)\n",
    "\n",
    "print(num2, num3)"
   ]
  },
  {
   "cell_type": "code",
   "execution_count": 9,
   "id": "d245ccb2-2973-48d7-9240-1ab75712a7c0",
   "metadata": {},
   "outputs": [
    {
     "data": {
      "text/plain": [
       "4"
      ]
     },
     "execution_count": 9,
     "metadata": {},
     "output_type": "execute_result"
    }
   ],
   "source": [
    "#float to string\n",
    "num3 = 4.43\n",
    "num3 = int(num3)\n",
    "num3"
   ]
  },
  {
   "cell_type": "code",
   "execution_count": 10,
   "id": "40243c6b-a8d7-4e49-8c7f-a1815fe4e8ac",
   "metadata": {},
   "outputs": [
    {
     "name": "stdout",
     "output_type": "stream",
     "text": [
      "First fruit: apple\n",
      "Last fruit: orange\n",
      "Fourth fruit: coconut\n"
     ]
    }
   ],
   "source": [
    "#fruits = [\"apple\", \"banana\", \"cherry\", \"coconut\", \"pineapple\" ,\"mango\", \"orange\"\n",
    "fruits = [\"apple\", \"banana\", \"cherry\", \"coconut\", \"pineapple\", \"mango\", \"orange\"]\n",
    "\n",
    "# The first fruit\n",
    "print(\"First fruit:\", fruits[0])\n",
    "\n",
    "# The last fruit (using negative indexing)\n",
    "print(\"Last fruit:\", fruits[-1])\n",
    "\n",
    "# The fourth fruit\n",
    "print(\"Fourth fruit:\", fruits[3])\n"
   ]
  },
  {
   "cell_type": "code",
   "execution_count": 11,
   "id": "a7ce9743-82e1-4f87-8e6e-ad886309f07a",
   "metadata": {},
   "outputs": [
    {
     "name": "stdout",
     "output_type": "stream",
     "text": [
      "[10, 20, 30]\n"
     ]
    }
   ],
   "source": [
    "#list slicing numbers = [10,20, 30, 40, 50] print \n",
    "#the three elements\n",
    "numbers = [10, 20, 30, 40, 50]\n",
    "print(numbers[:3])  \n"
   ]
  },
  {
   "cell_type": "code",
   "execution_count": 12,
   "id": "ec3d6463-1d9c-4025-9c02-de4356532400",
   "metadata": {},
   "outputs": [
    {
     "name": "stdout",
     "output_type": "stream",
     "text": [
      "[40, 50]\n"
     ]
    }
   ],
   "source": [
    "#last two number\n",
    "numbers = [10, 20, 30, 40, 50]\n",
    "print(numbers[3:5])"
   ]
  },
  {
   "cell_type": "code",
   "execution_count": 13,
   "id": "63290828-ff17-463c-baec-3a72a57bbd94",
   "metadata": {},
   "outputs": [
    {
     "name": "stdout",
     "output_type": "stream",
     "text": [
      "[20, 30, 40, 50]\n"
     ]
    }
   ],
   "source": [
    "#print all elments except the first one\n",
    "numbers = [10, 20, 30, 40, 50]\n",
    "print(numbers[1:5])"
   ]
  },
  {
   "cell_type": "code",
   "execution_count": 14,
   "id": "8925073d-c6b5-455f-9cec-dba4d95dce4f",
   "metadata": {},
   "outputs": [
    {
     "name": "stdout",
     "output_type": "stream",
     "text": [
      "[10, 20, 30, 40]\n"
     ]
    }
   ],
   "source": [
    "#print all elments except the last one\n",
    "numbers = [10, 20, 30, 40, 50]\n",
    "print(numbers[:4])\n"
   ]
  },
  {
   "cell_type": "code",
   "execution_count": 15,
   "id": "b0770261-1c8e-4eef-9ba7-bf0c947d63b9",
   "metadata": {},
   "outputs": [
    {
     "name": "stdout",
     "output_type": "stream",
     "text": [
      "[50, 40, 30, 20, 10]\n"
     ]
    }
   ],
   "source": [
    "#print the list in reverse using slicing\n",
    "numbers = [10, 20, 30, 40, 50]\n",
    "print(numbers[::-1])\n"
   ]
  },
  {
   "cell_type": "code",
   "execution_count": 16,
   "id": "9c6be6eb-efce-4ed4-adae-20b2e1e191ae",
   "metadata": {},
   "outputs": [
    {
     "name": "stdout",
     "output_type": "stream",
     "text": [
      "[10, 30, 50]\n"
     ]
    }
   ],
   "source": [
    "#print every second element\n",
    "numbers = [10, 20, 30, 40, 50]\n",
    "print(numbers[::2])\n"
   ]
  },
  {
   "cell_type": "code",
   "execution_count": 17,
   "id": "e9257636-5300-4168-ad4c-f9a4c07791ac",
   "metadata": {},
   "outputs": [
    {
     "name": "stdout",
     "output_type": "stream",
     "text": [
      "[1, 2, 3, 10]\n"
     ]
    }
   ],
   "source": [
    "#add the number 10 to the end o the list using method\n",
    "nums = [1,2,3]\n",
    "nums.append(10)\n",
    "print(nums)"
   ]
  },
  {
   "cell_type": "code",
   "execution_count": 18,
   "id": "7e27c668-a9e7-4fb8-89c9-36773a843b18",
   "metadata": {},
   "outputs": [
    {
     "name": "stdout",
     "output_type": "stream",
     "text": [
      "[1, 99, 2, 3]\n"
     ]
    }
   ],
   "source": [
    "#inserting 99 at index 1 using method\n",
    "nums = [1,2,3]\n",
    "nums.insert(1,99)\n",
    "print(nums)"
   ]
  },
  {
   "cell_type": "code",
   "execution_count": 19,
   "id": "49b140ae-3b19-45ba-ab7c-dc6d25130680",
   "metadata": {},
   "outputs": [
    {
     "name": "stdout",
     "output_type": "stream",
     "text": [
      "[1, 2, 3, 4, 5]\n"
     ]
    }
   ],
   "source": [
    "#add the elements of another list[4,5] to the original list using method\n",
    "nums = [1,2,3]\n",
    "nums.extend([4, 5])\n",
    "print(nums)\n"
   ]
  },
  {
   "cell_type": "code",
   "execution_count": 20,
   "id": "8ca2a7b5-f963-4e00-aec9-d8a013e6a805",
   "metadata": {},
   "outputs": [
    {
     "name": "stdout",
     "output_type": "stream",
     "text": [
      "[1, 2, 3, 4]\n"
     ]
    }
   ],
   "source": [
    "#sort the list in ascending order using method\n",
    "nums = [4,1,3,2]\n",
    "nums.sort()\n",
    "print(nums)\n"
   ]
  },
  {
   "cell_type": "code",
   "execution_count": 21,
   "id": "270dd496-2365-4436-bbdc-c8f65048d20f",
   "metadata": {},
   "outputs": [
    {
     "name": "stdout",
     "output_type": "stream",
     "text": [
      "['burger', 'fries', 'coke', 'biryani', 'ice cream']\n"
     ]
    }
   ],
   "source": [
    "#A customer orders several food items. add the items to a list and then\n",
    "#add a new item \"ice cream\" using append()\n",
    "order = [\"burger\",\"fries\",\"coke\",\"biryani\"]\n",
    "order.append(\"ice cream\")\n",
    "print(order)"
   ]
  },
  {
   "cell_type": "code",
   "execution_count": 22,
   "id": "66e3c954-9a0b-4913-b693-ac89055eb84c",
   "metadata": {},
   "outputs": [
    {
     "name": "stdout",
     "output_type": "stream",
     "text": [
      "['burger', 'fries', 'coke', 'ice cream']\n"
     ]
    }
   ],
   "source": [
    "#remove biryani\n",
    "order = ['burger', 'fries', 'coke', 'biryani', 'ice cream']\n",
    "order.remove(\"biryani\")\n",
    "print(order)"
   ]
  },
  {
   "cell_type": "code",
   "execution_count": 23,
   "id": "f7107b5b-ef0c-4ac0-8376-ac830686a54d",
   "metadata": {},
   "outputs": [
    {
     "name": "stdout",
     "output_type": "stream",
     "text": [
      "['burger', 'fries', 'coke', 'ice cream']\n"
     ]
    }
   ],
   "source": [
    "#show final list\n",
    "order = ['burger', 'fries', 'coke', 'ice cream']\n",
    "print(order)"
   ]
  },
  {
   "cell_type": "code",
   "execution_count": 24,
   "id": "7973550e-e9b4-47e8-8172-af7f62531066",
   "metadata": {},
   "outputs": [
    {
     "name": "stdout",
     "output_type": "stream",
     "text": [
      "['Ali', 'Sara', 'Zara', 'Ahmed']\n"
     ]
    }
   ],
   "source": [
    "#track passengers on a bus\n",
    "#insert a new passenger \"sara\" at position 2\n",
    "passengers = [\"Ali\", \"Zara\", \"Ahmed\"]\n",
    "passengers.insert(1,\"Sara\")\n",
    "print(passengers)"
   ]
  },
  {
   "cell_type": "code",
   "execution_count": 25,
   "id": "32be213a-7e95-43a0-b7b3-78be0868a4a6",
   "metadata": {},
   "outputs": [
    {
     "name": "stdout",
     "output_type": "stream",
     "text": [
      "['Ali', 'Ahmed']\n"
     ]
    }
   ],
   "source": [
    "#remove passengers who got off \"zara\"\n",
    "passengers = [\"Ali\", \"Zara\", \"Ahmed\"]\n",
    "passengers.remove(\"Zara\")\n",
    "print(passengers)"
   ]
  },
  {
   "cell_type": "code",
   "execution_count": 26,
   "id": "8d4fb1e0-1eb8-42db-b37d-8ad106a6aab2",
   "metadata": {},
   "outputs": [
    {
     "name": "stdout",
     "output_type": "stream",
     "text": [
      "['Ahmed', 'Zara', 'Sara', 'Ali']\n"
     ]
    }
   ],
   "source": [
    "#reverse who order to show who entered list\n",
    "passengers =['Ali', 'Sara', 'Zara', 'Ahmed']\n",
    "passengers.reverse()\n",
    "print(passengers)"
   ]
  },
  {
   "cell_type": "code",
   "execution_count": null,
   "id": "a1c2ecac-7562-4139-937a-8cd04a884d1a",
   "metadata": {},
   "outputs": [],
   "source": []
  }
 ],
 "metadata": {
  "kernelspec": {
   "display_name": "Python 3 (ipykernel)",
   "language": "python",
   "name": "python3"
  },
  "language_info": {
   "codemirror_mode": {
    "name": "ipython",
    "version": 3
   },
   "file_extension": ".py",
   "mimetype": "text/x-python",
   "name": "python",
   "nbconvert_exporter": "python",
   "pygments_lexer": "ipython3",
   "version": "3.12.3"
  }
 },
 "nbformat": 4,
 "nbformat_minor": 5
}
