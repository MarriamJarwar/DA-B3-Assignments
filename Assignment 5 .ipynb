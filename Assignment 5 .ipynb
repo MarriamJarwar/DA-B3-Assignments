{
 "cells": [
  {
   "cell_type": "code",
   "execution_count": 1,
   "id": "44f8fb64-0178-4226-ad41-af3e97cbf042",
   "metadata": {},
   "outputs": [
    {
     "name": "stdout",
     "output_type": "stream",
     "text": [
      "The sum is: 12\n"
     ]
    }
   ],
   "source": [
    "#Q1. Write a Python function called add_numbers that takes two numbers as arguments and returns their sum.\n",
    "#Then, test the function by calling it with two numbers of your choice.\n",
    "\n",
    "def add_numbers(num1, num2):\n",
    "    return num1 + num2\n",
    "\n",
    "# Test the function\n",
    "result = add_numbers(5, 7)\n",
    "print(\"The sum is:\", result)"
   ]
  },
  {
   "cell_type": "code",
   "execution_count": 2,
   "id": "c337e609-5d63-4a8a-8240-9c9db07fbbb1",
   "metadata": {},
   "outputs": [
    {
     "name": "stdout",
     "output_type": "stream",
     "text": [
      "10 USD is equal to 2800 PKR at an exchange rate of 280.\n",
      "10 USD is equal to 2750 PKR at an exchange rate of 275.\n"
     ]
    }
   ],
   "source": [
    "#Q2. Create a Python function called currency_converter() that takes two arguments:\n",
    "\n",
    "#- amount: The amount of money to be converted (in USD).\n",
    "#- exchange_rate (default is 280): The conversion rate from USD to another currency (e.g., PKR). You can assume the default rate is 1 USD = 280 PKR.\n",
    "\n",
    "#The function should return a message showing how much the given amount is worth in the target currency (PKR).\n",
    "\n",
    "def currency_converter(amount, exchange_rate=280):\n",
    "    converted_amount = amount * exchange_rate\n",
    "    return f\"{amount} USD is equal to {converted_amount} PKR at an exchange rate of {exchange_rate}.\"\n",
    "\n",
    "# Test cases\n",
    "print(currency_converter(10))          # Uses default exchange rate (280)\n",
    "print(currency_converter(10, 275))     # Uses custom exchange rate (275)"
   ]
  },
  {
   "cell_type": "code",
   "execution_count": 6,
   "id": "2b284030-b7c9-45a1-b3c4-3b4d293110bd",
   "metadata": {},
   "outputs": [
    {
     "name": "stdout",
     "output_type": "stream",
     "text": [
      "Student Information:\n",
      "Name: Alice\n",
      "Age: 15\n",
      "Grade: 10\n",
      "School: High School\n"
     ]
    }
   ],
   "source": [
    "#Q33. Write a Python function display_student_info that accepts the following details about a student:\n",
    "#- name (Keyword argument): The name of the student.\n",
    "#- age (Keyword argument): The age of the student.\n",
    "#- grade (Keyword argument): The grade the student is in.\n",
    "#- school (Keyword argument): The name of the school the student attends.\n",
    "\n",
    "\n",
    "\n",
    "def display_student_info(**kwargs):\n",
    "    # Check if all required keys are present in kwargs\n",
    "    required_keys = ['name', 'age', 'grade', 'school']\n",
    "    for key in required_keys:\n",
    "        if key not in kwargs:\n",
    "            raise ValueError(f\"Missing required keyword argument: {key}\")\n",
    "    \n",
    "    # Extract the values from kwargs\n",
    "    name = kwargs['name']\n",
    "    age = kwargs['age']\n",
    "    grade = kwargs['grade']\n",
    "    school = kwargs['school']\n",
    "    \n",
    "    # Display the student information\n",
    "    print(\"Student Information:\")\n",
    "    print(f\"Name: {name}\")\n",
    "    print(f\"Age: {age}\")\n",
    "    print(f\"Grade: {grade}\")\n",
    "    print(f\"School: {school}\")\n",
    "\n",
    "display_student_info(name=\"Alice\", age=15, grade=10, school=\"High School\")"
   ]
  },
  {
   "cell_type": "code",
   "execution_count": 9,
   "id": "76059622-9186-48c4-a109-608a635a4f99",
   "metadata": {},
   "outputs": [
    {
     "name": "stdout",
     "output_type": "stream",
     "text": [
      "50\n",
      "10.0\n"
     ]
    }
   ],
   "source": [
    "#4. Write a Python function calculate_price that accepts two positional arguments:\n",
    "#- price: The price of a single item.\n",
    "#- quantity: The number of items bought.\n",
    "#- The function should return the total price by multiplying price and quantity.\n",
    "\n",
    "def calculate_price(price, quantity):\n",
    "    return price * quantity\n",
    "    # Example 1:\n",
    "total = calculate_price(10, 5)\n",
    "print(total) \n",
    "\n",
    "# Example 2:\n",
    "total = calculate_price(2.5, 4)\n",
    "print(total) "
   ]
  },
  {
   "cell_type": "code",
   "execution_count": 12,
   "id": "7aaf738e-d0f3-4ace-8e98-81999561eeb0",
   "metadata": {},
   "outputs": [
    {
     "name": "stdout",
     "output_type": "stream",
     "text": [
      "Product: Laptop\n",
      "\n",
      "Amazon: $800\n",
      "eBay: $750\n",
      "Walmart: $780\n"
     ]
    }
   ],
   "source": [
    "#Q5. Write a Python function display_prices that takes a product name and an arbitrary number of keyword arguments representing product prices. \n",
    "#The function should display each product and its price.\n",
    "#Product: Laptop\n",
    "#Amazon: $800\n",
    "#eBay: $750\n",
    "#Walmart: $780\n",
    "\n",
    "def display_prices(product, **prices):\n",
    "    print(f\"Product: {product}\\n\")\n",
    "    for store, price in prices.items():\n",
    "        print(f\"{store}: ${price}\")\n",
    "display_prices(\"Laptop\", Amazon=800, eBay=750, Walmart=780)"
   ]
  },
  {
   "cell_type": "code",
   "execution_count": 14,
   "id": "634f2a48-6e4f-412f-b8df-2943b91068ef",
   "metadata": {},
   "outputs": [
    {
     "name": "stdout",
     "output_type": "stream",
     "text": [
      "- Name: Alice\n",
      "- Age: 30\n",
      "- Other Details:\n",
      "    - address: 123 Main St\n",
      "    - phone: 123-456-7890\n",
      "    - email: alice@example.com\n"
     ]
    }
   ],
   "source": [
    "#Q7. Write a Python function display_info that takes: Positional arguments for the name and age of a person.\n",
    "#Keyword arguments for other personal details like address, phone number, and email.\n",
    "#Example Output:\n",
    "#- Name: Alice\n",
    "#- Age: 30\n",
    "#- Other Details:\n",
    "   # - address: 123 Main St\n",
    "   # - phone: 123-456-7890\n",
    "   # - email: alice@example.com\n",
    "\n",
    "def display_info(name, age, **details):\n",
    "    print(f\"- Name: {name}\")\n",
    "    print(f\"- Age: {age}\")\n",
    "    print(\"- Other Details:\")\n",
    "    for key, value in details.items():\n",
    "        print(f\"    - {key}: {value}\")\n",
    "\n",
    "display_info(\n",
    "    \"Alice\", \n",
    "    30, \n",
    "    address=\"123 Main St\", \n",
    "    phone=\"123-456-7890\", \n",
    "    email=\"alice@example.com\"\n",
    ")"
   ]
  },
  {
   "cell_type": "code",
   "execution_count": 15,
   "id": "ec5db07f-bfa2-471c-b18d-23d06f16a357",
   "metadata": {},
   "outputs": [
    {
     "name": "stdout",
     "output_type": "stream",
     "text": [
      "In-stock product names: ['Laptop', 'Headphones', 'Smartwatch', 'Keyboard']\n",
      "Discounted prices: [('Laptop', 1080.0), ('Headphones', 120.0), ('Smartwatch', 300), ('Keyboard', 85.0)]\n"
     ]
    }
   ],
   "source": [
    "#Q8. products = [ {\"name\": \"Laptop\", \"price\": 1200, \"in_stock\": True, \"discount\": 0.1}, {\"name\": \"Smartphone\", \"price\": 800, \"in_stock\": False,\n",
    "#\"discount\": 0.05}, {\"name\": \"Headphones\", \"price\": 150, \"in_stock\": True, \"discount\": 0.2}, {\"name\": \"Smartwatch\", \"price\": 300, \"in_stock\": True, \n",
    "#\"discount\": 0}, {\"name\": \"Keyboard\", \"price\": 100, \"in_stock\": True, \"discount\": 0.15} ]\n",
    "#- Get names of in-stock products:\n",
    "#*Use list comprehension to generate a list of names for the products that are in stock.\n",
    "#- Calculate final prices for in-stock products after discount:\n",
    "#*For products that have a discount, calculate the final price by applying the discount.\n",
    "#*For products with no discount, keep the original price.\n",
    "#- Generate a list of tuples with the product name and its final price.\n",
    "#Example Output:\n",
    "#- In-stock product names: ['Laptop', 'Headphones', 'Smartwatch', 'Keyboard']\n",
    "#- Discounted prices: [('Laptop', 1080.0), ('Headphones', 120.0), ('Smartwatch', 300), ('Keyboard', 85.0)]\n",
    "\n",
    "\n",
    "products = [\n",
    "    {\"name\": \"Laptop\", \"price\": 1200, \"in_stock\": True, \"discount\": 0.1},\n",
    "    {\"name\": \"Smartphone\", \"price\": 800, \"in_stock\": False, \"discount\": 0.05},\n",
    "    {\"name\": \"Headphones\", \"price\": 150, \"in_stock\": True, \"discount\": 0.2},\n",
    "    {\"name\": \"Smartwatch\", \"price\": 300, \"in_stock\": True, \"discount\": 0},\n",
    "    {\"name\": \"Keyboard\", \"price\": 100, \"in_stock\": True, \"discount\": 0.15}\n",
    "]\n",
    "\n",
    "# Get names of in-stock products\n",
    "in_stock_names = [product[\"name\"] for product in products if product[\"in_stock\"]]\n",
    "\n",
    "# Calculate final prices for in-stock products after discount\n",
    "discounted_prices = [\n",
    "    (product[\"name\"], \n",
    "     product[\"price\"] * (1 - product[\"discount\"]) if product[\"discount\"] > 0 else product[\"price\"])\n",
    "    for product in products if product[\"in_stock\"]\n",
    "]\n",
    "\n",
    "print(\"In-stock product names:\", in_stock_names)\n",
    "print(\"Discounted prices:\", discounted_prices)"
   ]
  },
  {
   "cell_type": "code",
   "execution_count": 16,
   "id": "02a33d9f-53fa-41d4-ac29-49ae8ccb034a",
   "metadata": {},
   "outputs": [
    {
     "name": "stdout",
     "output_type": "stream",
     "text": [
      "[2, 4, 6, 8, 10, 12, 14, 16, 18, 20]\n"
     ]
    }
   ],
   "source": [
    "#Q9.Create a list of even numbers between 1 and 20. (List Comprehension)\n",
    "\n",
    "even_numbers = [x for x in range(1, 21) if x % 2 == 0]\n",
    "print(even_numbers)"
   ]
  },
  {
   "cell_type": "code",
   "execution_count": 17,
   "id": "95a3f34c-ca46-4abf-b9fd-fad1a2c1b369",
   "metadata": {},
   "outputs": [
    {
     "name": "stdout",
     "output_type": "stream",
     "text": [
      "[10, 12, 15, 18, 20, 21, 25, 30, 33, 35, 40]\n"
     ]
    }
   ],
   "source": [
    "#Q10 Create a list of numbers, generate a new list containing only the numbers that are divisible by 3 or 5. (List Comprehension)\n",
    "\n",
    "numbers = [10, 12, 15, 18, 20, 21, 23, 25, 30, 33, 35, 40]\n",
    "\n",
    "# Filter numbers divisible by 3 or 5\n",
    "divisible_by_3_or_5 = [x for x in numbers if x % 3 == 0 or x % 5 == 0]\n",
    "\n",
    "print(divisible_by_3_or_5)"
   ]
  },
  {
   "cell_type": "code",
   "execution_count": null,
   "id": "298e40e4-adc0-4ee2-ad42-a5c7bdedc6e5",
   "metadata": {},
   "outputs": [],
   "source": []
  }
 ],
 "metadata": {
  "kernelspec": {
   "display_name": "Python 3 (ipykernel)",
   "language": "python",
   "name": "python3"
  },
  "language_info": {
   "codemirror_mode": {
    "name": "ipython",
    "version": 3
   },
   "file_extension": ".py",
   "mimetype": "text/x-python",
   "name": "python",
   "nbconvert_exporter": "python",
   "pygments_lexer": "ipython3",
   "version": "3.12.3"
  }
 },
 "nbformat": 4,
 "nbformat_minor": 5
}
