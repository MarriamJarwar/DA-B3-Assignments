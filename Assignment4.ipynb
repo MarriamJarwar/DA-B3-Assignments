{
 "cells": [
  {
   "cell_type": "code",
   "execution_count": 23,
   "id": "91461854-f7f9-4af0-b253-b20b6f8d577a",
   "metadata": {},
   "outputs": [
    {
     "name": "stdout",
     "output_type": "stream",
     "text": [
      "101: {'name': 'Laptop', 'category': 'Electronics', 'price': 1200, 'stock': 50}\n",
      "102: {'name': 'Shirt', 'category': 'Apparel', 'price': 25, 'stock': 250}\n",
      "103: {'name': 'Coffee Maker', 'category': 'Home Appliances', 'price': 80, 'stock': 30}\n",
      "104: {'name': 'Smartphone', 'category': 'Mobile Devices', 'price': 5000, 'stock': 80}\n"
     ]
    }
   ],
   "source": [
    "#Q1 An e-commerce store stores information about its products in a nested dictionary.\n",
    "#The outer dictionary uses product IDs as keys, and the inner dictionary stores product \n",
    "#details like name, category, price, and stock quantity. \n",
    "#products = { 101: {\"name\": \"Laptop\", \"category\": \"Electronics\", \"price\": 1200, \"stock\": 50}, \n",
    "           # 102: {\"name\": \"Shirt\", \"category\": \"Apparel\", \"price\": 25, \"stock\": 200}, \n",
    "            #103: {\"name\": \"Coffee Maker\", \"category\": \"Home Appliances\", \"price\": 80, \"stock\": 30} }\n",
    "\n",
    "#• Increase the stock of the \"Shirt\" product (add 50 more units)\n",
    "\n",
    "#• Add a new product (e.g., \"Smartphone\")\n",
    "\n",
    "\n",
    "\n",
    "products = {\n",
    "    101: {\"name\": \"Laptop\", \"category\": \"Electronics\", \"price\": 1200, \"stock\": 50},\n",
    "    102: {\"name\": \"Shirt\", \"category\": \"Apparel\", \"price\": 25, \"stock\": 200},\n",
    "    103: {\"name\": \"Coffee Maker\", \"category\": \"Home Appliances\", \"price\": 80, \"stock\": 30},\n",
    "    104: {\"name\": \"Smartphone\", \"category\": \"Mobile Devices\", \"price\": 5000, \"stock\": 80},\n",
    "}\n",
    "\n",
    "products[102][\"stock\"] += 50\n",
    "for product_id, details in products.items():\n",
    "    print(f\"{product_id}: {details}\")\n"
   ]
  },
  {
   "cell_type": "code",
   "execution_count": 24,
   "id": "3e5a2d28-1e8d-4bca-8b2f-274cff32f77e",
   "metadata": {},
   "outputs": [
    {
     "name": "stdout",
     "output_type": "stream",
     "text": [
      "['apple', 'banana', 'orange', 'grape']\n"
     ]
    }
   ],
   "source": [
    "#Q2.You are given a list that contains some duplicate items. Remove the duplicates\n",
    "\n",
    "shopping_list = [\"apple\", \"banana\", \"apple\", \"orange\", \"banana\", \"grape\"]\n",
    "shopping_list = [\"apple\", \"banana\", \"apple\", \"orange\", \"banana\", \"grape\"]\n",
    "unique_list = list(dict.fromkeys(shopping_list))\n",
    "print(unique_list)\n"
   ]
  },
  {
   "cell_type": "code",
   "execution_count": 25,
   "id": "1b719531-f883-4483-bd83-7b5d78521285",
   "metadata": {},
   "outputs": [
    {
     "name": "stdout",
     "output_type": "stream",
     "text": [
      "Students only in Course A: {'John', 'Bob'}\n",
      "Students in exactly one course: {'Charlie', 'Eve', 'John', 'Bob'}\n"
     ]
    }
   ],
   "source": [
    "#Q3.You are managing a list of students enrolled in two different courses. You need to perform various set operations to understand the student enrollment.\n",
    "#Task: Create two sets: one for students in \"Course A\" and one for students in \"Course B\".\n",
    "#Find the students who are in \"Course A\" but not in \"Course B\" (difference). \n",
    "#Find students who are only in one of the two courses (symmetric difference). \n",
    "#course_a = {\"John\", \"Alice\", \"Bob\", \"David\"} \n",
    "#course_b = {\"Alice\", \"Eve\", \"Charlie\", \"David\"}\n",
    "#• Find students who are in Course A but not in Course B (difference)\n",
    "#• Find students who are only in one of the two courses (symmetric difference)\n",
    "\n",
    "course_a = {\"John\", \"Alice\", \"Bob\", \"David\"}\n",
    "course_b = {\"Alice\", \"Eve\", \"Charlie\", \"David\"}\n",
    "\n",
    "# Difference (A - B)\n",
    "only_in_a = course_a.difference(course_b)\n",
    "print(\"Students only in Course A:\", only_in_a)\n",
    "\n",
    "# Symmetric Difference\n",
    "exactly_one_course = course_a.symmetric_difference(course_b)\n",
    "print(\"Students in exactly one course:\", exactly_one_course)"
   ]
  },
  {
   "cell_type": "code",
   "execution_count": 26,
   "id": "19135b80-2b93-4489-af9c-6cbb76e9966d",
   "metadata": {},
   "outputs": [
    {
     "name": "stdout",
     "output_type": "stream",
     "text": [
      "The sum of all even numbers between 1 and 50 is: 650\n"
     ]
    }
   ],
   "source": [
    "#Q4.Write a Python program that calculates the sum of all even numbers between 1 and 50 (inclusive) using a for loop.\n",
    "#Hint\n",
    "#- Initialize a variable to hold the sum (e.g., sum_of_evens).\n",
    "#- Use a for loop to iterate through all numbers from 1 to 50.\n",
    "#- Inside the loop, check if the number is even.\n",
    "#- If the number is even, add it to sum_of_evens.\n",
    "#- After the loop finishes, print the total sum of all even numbers between 1 and 50.\n",
    "\n",
    "# Initialize the sum variable\n",
    "sum_of_evens = 0\n",
    "\n",
    "# Iterate through numbers from 1 to 50\n",
    "for num in range(1, 51):\n",
    "    # Check if the number is even\n",
    "    if num % 2 == 0:\n",
    "        # Add the even number to the sum\n",
    "        sum_of_evens += num\n",
    "\n",
    "# Print the total sum of even numbers\n",
    "print(\"The sum of all even numbers between 1 and 50 is:\", sum_of_evens)"
   ]
  },
  {
   "cell_type": "code",
   "execution_count": 28,
   "id": "69a68103-063c-4aad-985e-38447c062837",
   "metadata": {},
   "outputs": [
    {
     "name": "stdin",
     "output_type": "stream",
     "text": [
      "Enter a number:  9\n"
     ]
    },
    {
     "name": "stdout",
     "output_type": "stream",
     "text": [
      "9^1 = 9\n",
      "9^2 = 81\n",
      "9^3 = 729\n",
      "9^4 = 6561\n",
      "9^5 = 59049\n",
      "9^6 = 531441\n",
      "9^7 = 4782969\n",
      "9^8 = 43046721\n",
      "9^9 = 387420489\n",
      "9^10 = 3486784401\n"
     ]
    }
   ],
   "source": [
    "#Q5. Power of a Number Write a Python program that takes a number and prints the powers of the number (starting from 1 to 10) using a while loop.\n",
    "#For example, if the user inputs 3, the output should be:\n",
    "#3^1 = 3\n",
    "#3^2 = 9\n",
    "#3^3 = 27\n",
    "#... up to 3^10.\n",
    "\n",
    "# Get input from user\n",
    "num = int(input(\"Enter a number: \"))\n",
    "\n",
    "# Initialize variables\n",
    "power = 1\n",
    "\n",
    "# Calculate and print powers using while loop\n",
    "while power <= 10:\n",
    "    result = num ** power\n",
    "    print(f\"{num}^{power} = {result}\")\n",
    "    power += 1"
   ]
  },
  {
   "cell_type": "code",
   "execution_count": 29,
   "id": "3c4d453a-f70a-4406-81f9-4fc19d489cd7",
   "metadata": {},
   "outputs": [
    {
     "name": "stdin",
     "output_type": "stream",
     "text": [
      "Enter a number to start the countdown:  5\n"
     ]
    },
    {
     "name": "stdout",
     "output_type": "stream",
     "text": [
      "5\n",
      "4\n",
      "3\n",
      "2\n",
      "1\n",
      "0\n",
      "Countdown finished!\n"
     ]
    }
   ],
   "source": [
    "#Q6. Problem Statement: Write a Python program that takes an integer input from the user and counts down from that number to 0. \n",
    "#The program should display the current number at each step until it reaches 0,\n",
    "#at which point it should print a message indicating the countdown is finished\n",
    "\n",
    "#Output Hint:\n",
    "#Enter a number to start the countdown: 3\n",
    "#3\n",
    "#2\n",
    "#1\n",
    "#0\n",
    "#Countdown finished!\n",
    "\n",
    "# Get user input\n",
    "number = int(input(\"Enter a number to start the countdown: \"))\n",
    "\n",
    "# Countdown loop\n",
    "for i in range(number, -1, -1):\n",
    "    print(i)\n",
    "\n",
    "# Final message\n",
    "print(\"Countdown finished!\")"
   ]
  },
  {
   "cell_type": "code",
   "execution_count": 30,
   "id": "a0874fcc-f10e-4d93-b4b1-2500032cc10d",
   "metadata": {},
   "outputs": [
    {
     "name": "stdin",
     "output_type": "stream",
     "text": [
      "Input:\n",
      " 6\n"
     ]
    },
    {
     "name": "stdout",
     "output_type": "stream",
     "text": [
      "\n",
      "Output:\n",
      "The factorial of 6 is 720\n"
     ]
    }
   ],
   "source": [
    "#Q7.Write a Python program that takes a number as input from the user and calculates its factorial using a for loop.\n",
    "#The program should display the result to the user.\n",
    "#Example Input/Output:\n",
    "#Input:\n",
    "#5\n",
    "#Output:\n",
    "#The factorial of 5 is 120\n",
    "                                                                                                         \n",
    " # Take input from the user\n",
    "num = int(input(\"Input:\\n\"))\n",
    "\n",
    "# Initialize factorial to 1\n",
    "factorial = 1\n",
    "\n",
    "# Calculate factorial using a for loop\n",
    "for i in range(1, num + 1):\n",
    "    factorial *= i\n",
    "\n",
    "# Display the result\n",
    "print(\"\\nOutput:\")\n",
    "print(f\"The factorial of {num} is {factorial}\")                                                                                                        "
   ]
  },
  {
   "cell_type": "code",
   "execution_count": 31,
   "id": "a0b7f8ac-53aa-4f4f-ae5c-0950e81639e6",
   "metadata": {},
   "outputs": [
    {
     "name": "stdout",
     "output_type": "stream",
     "text": [
      "{'name': 'Alice', 'age': 25, 'occupation': 'Engineer'}\n"
     ]
    }
   ],
   "source": [
    "#Q8.Create an empty dictionary called person_info.\n",
    "#Assign the following key-value pairs to the dictionary:\n",
    "#\"name\": \"Alice\"\n",
    "#\"age\": 25\n",
    "#\"occupation\": \"Engineer\"\n",
    "#After assigning the values, print the dictionary.\n",
    "\n",
    "# Create an empty dictionary\n",
    "person_info = {}\n",
    "\n",
    "# Assign key-value pairs\n",
    "person_info[\"name\"] = \"Alice\"\n",
    "person_info[\"age\"] = 25\n",
    "person_info[\"occupation\"] = \"Engineer\"\n",
    "\n",
    "# Print the dictionary\n",
    "print(person_info)"
   ]
  },
  {
   "cell_type": "code",
   "execution_count": 32,
   "id": "57c42f4b-388d-4d30-978f-6349e216bd7d",
   "metadata": {},
   "outputs": [
    {
     "name": "stdout",
     "output_type": "stream",
     "text": [
      "* \n",
      "* * \n",
      "* * * \n",
      "* * * * \n",
      "* * * * * \n"
     ]
    }
   ],
   "source": [
    "#Q9. Printing a right-angled triangle pattern (with NESTED while loop)\n",
    "#* \n",
    "#* * \n",
    "#* * * \n",
    "#* * * * \n",
    "#* * * * * \n",
    "\n",
    "# Initialize the outer loop counter\n",
    "i = 1\n",
    "\n",
    "# Outer while loop for the number of rows\n",
    "while i <= 5:\n",
    "    # Initialize the inner loop counter\n",
    "    j = 1\n",
    "    \n",
    "    # Inner while loop for the number of stars in each row\n",
    "    while j <= i:\n",
    "        print('*', end=' ')\n",
    "        j += 1\n",
    "    \n",
    "    # Move to the next line after each row is printed\n",
    "    print()\n",
    "    \n",
    "    # Increment the outer loop counter\n",
    "    i += 1"
   ]
  },
  {
   "cell_type": "code",
   "execution_count": 36,
   "id": "d28f519f-84f2-4355-b634-75a2b569b109",
   "metadata": {},
   "outputs": [
    {
     "name": "stdout",
     "output_type": "stream",
     "text": [
      "1\n",
      "2\n",
      "3\n",
      "5\n",
      "6\n"
     ]
    }
   ],
   "source": [
    "#Q10.Write a Python program that does the following:\n",
    "#Range: Loop through numbers from 1 to 20 (inclusive).\n",
    "#Continue: If the number is divisible by 4, skip that iteration and move to the next number.\n",
    "#Break: If the number is divisible by 7, stop the loop entirely.\n",
    "#For all other numbers, print the number.\n",
    "\n",
    "# Loop through numbers from 1 to 20 (inclusive)\n",
    "for num in range(1, 21):\n",
    "    # Skip the iteration if the number is divisible by 4\n",
    "    if num % 4 == 0:\n",
    "        continue\n",
    "    \n",
    "    # Stop the loop entirely if the number is divisible by 7\n",
    "    if num % 7 == 0:\n",
    "        break\n",
    "    \n",
    "    # Print the number if neither condition above is met\n",
    "    print(num)"
   ]
  },
  {
   "cell_type": "code",
   "execution_count": null,
   "id": "506153a5-2502-474e-9046-d50eb3a28c2b",
   "metadata": {},
   "outputs": [],
   "source": []
  }
 ],
 "metadata": {
  "kernelspec": {
   "display_name": "Python 3 (ipykernel)",
   "language": "python",
   "name": "python3"
  },
  "language_info": {
   "codemirror_mode": {
    "name": "ipython",
    "version": 3
   },
   "file_extension": ".py",
   "mimetype": "text/x-python",
   "name": "python",
   "nbconvert_exporter": "python",
   "pygments_lexer": "ipython3",
   "version": "3.12.3"
  }
 },
 "nbformat": 4,
 "nbformat_minor": 5
}
